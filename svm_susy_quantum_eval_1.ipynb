{
 "cells": [
  {
   "cell_type": "code",
   "execution_count": 1,
   "id": "bc0183d9",
   "metadata": {},
   "outputs": [],
   "source": [
    "import numpy as np\n",
    "import pandas as pd\n",
    "import matplotlib.pyplot as plt\n",
    "import seaborn as sns\n",
    "from sklearn import linear_model\n",
    "from sklearn.model_selection import train_test_split\n",
    "import gc\n",
    "from sklearn.preprocessing import MinMaxScaler\n",
    "\n",
    "from qiskit.circuit.library import z_feature_map, zz_feature_map, pauli_feature_map\n",
    "from qiskit.circuit.library import unitary_overlap\n",
    "from qiskit import transpile\n",
    "from qiskit.quantum_info import Statevector, state_fidelity\n",
    "from qiskit_aer import AerSimulator"
   ]
  },
  {
   "cell_type": "code",
   "execution_count": 2,
   "id": "1df2e7a1",
   "metadata": {},
   "outputs": [],
   "source": [
    "RELEVANT_FEATURES = [\n",
    "    1,2,3,4,5,6,7,8\n",
    "]\n",
    "\n",
    "\n",
    "TARGET = 0"
   ]
  },
  {
   "cell_type": "code",
   "execution_count": 3,
   "id": "0561ec49",
   "metadata": {},
   "outputs": [],
   "source": [
    "data = pd.read_csv(\"SUSY.csv.gz\", nrows=100_000, header=None)\n",
    "data = data.dropna(subset=[TARGET, *RELEVANT_FEATURES])"
   ]
  },
  {
   "cell_type": "code",
   "execution_count": null,
   "id": "6ccd896f",
   "metadata": {},
   "outputs": [],
   "source": [
    "data_features = MinMaxScaler(feature_range=(-np.pi/2, np.pi/2)).fit_transform(data[RELEVANT_FEATURES])\n",
    "data_target = data[TARGET]\n",
    "\n",
    "x_test = data_features[-1000:]\n",
    "y_test = data_target[-1000:]"
   ]
  },
  {
   "cell_type": "code",
   "execution_count": null,
   "id": "65c816c5",
   "metadata": {},
   "outputs": [],
   "source": [
    "from qiskit import transpile\n",
    "from qiskit_aer import AerSimulator\n",
    "from qiskit.circuit.library import ZFeatureMap, ZZFeatureMap\n",
    "from tqdm.notebook import tqdm\n",
    "from sklearn import svm\n",
    "from sklearn import metrics\n",
    "\n",
    "class QCalculator:\n",
    "    def __init__(self, fm):\n",
    "        self.fm = fm\n",
    "        self.calculated = {}\n",
    "        self.kernel = None\n",
    "\n",
    "    def psi(self, x):\n",
    "        qc = self.fm.assign_parameters(x)\n",
    "        return Statevector.from_instruction(qc)\n",
    "\n",
    "    def resolve_psi(self, mat):\n",
    "        out_cols = []\n",
    "        for row in tqdm(mat, leave=False):\n",
    "            key = tuple(row)\n",
    "            if key not in self.calculated:\n",
    "                self.calculated[key] = self.psi(row).data\n",
    "            out_cols.append(self.calculated[key])\n",
    "        return np.column_stack(out_cols)\n",
    "\n",
    "    def quantum_kernel(self, A, B):\n",
    "        PsiA = self.resolve_psi(A)\n",
    "        PsiB = self.resolve_psi(B)\n",
    "        G = PsiA.conj().T @ PsiB\n",
    "        return np.abs(G)**2\n",
    "\n",
    "    def calculate_kernel(self, x_train):\n",
    "        self.x_train = x_train\n",
    "        self.kernel = self.quantum_kernel(self.x_train, self.x_train) \n",
    "\n",
    "    def svm(self, c, y_train):\n",
    "        self.svm_linear = svm.SVC(kernel='precomputed', C=c)\n",
    "        self.svm_linear.fit(self.kernel, y_train)\n",
    "\n",
    "    def predict(self, x_test, y_test):\n",
    "        x_test_matrix = self.quantum_kernel(x_test, self.x_train)\n",
    "        self.predictions = self.svm_linear.predict(x_test_matrix)\n",
    "        return self.predictions\n",
    "                    "
   ]
  },
  {
   "cell_type": "code",
   "execution_count": 6,
   "id": "01088c58",
   "metadata": {},
   "outputs": [
    {
     "data": {
      "application/vnd.jupyter.widget-view+json": {
       "model_id": "5a859207eada40e89d08894d866c8616",
       "version_major": 2,
       "version_minor": 0
      },
      "text/plain": [
       "  0%|          | 0/100 [00:00<?, ?it/s]"
      ]
     },
     "metadata": {},
     "output_type": "display_data"
    },
    {
     "data": {
      "application/vnd.jupyter.widget-view+json": {
       "model_id": "b99469d1326342a1a2daa72854a9e3c2",
       "version_major": 2,
       "version_minor": 0
      },
      "text/plain": [
       "  0%|          | 0/100 [00:00<?, ?it/s]"
      ]
     },
     "metadata": {},
     "output_type": "display_data"
    },
    {
     "data": {
      "application/vnd.jupyter.widget-view+json": {
       "model_id": "c73b30cbe0b44aa4a9b22e29a6080b43",
       "version_major": 2,
       "version_minor": 0
      },
      "text/plain": [
       "  0%|          | 0/1000 [00:00<?, ?it/s]"
      ]
     },
     "metadata": {},
     "output_type": "display_data"
    },
    {
     "data": {
      "application/vnd.jupyter.widget-view+json": {
       "model_id": "4130b1cd424d465fac55b4be0429c52f",
       "version_major": 2,
       "version_minor": 0
      },
      "text/plain": [
       "  0%|          | 0/100 [00:00<?, ?it/s]"
      ]
     },
     "metadata": {},
     "output_type": "display_data"
    },
    {
     "data": {
      "application/vnd.jupyter.widget-view+json": {
       "model_id": "ec0bec0144e744799e8a46f839f99bac",
       "version_major": 2,
       "version_minor": 0
      },
      "text/plain": [
       "  0%|          | 0/200 [00:00<?, ?it/s]"
      ]
     },
     "metadata": {},
     "output_type": "display_data"
    },
    {
     "data": {
      "application/vnd.jupyter.widget-view+json": {
       "model_id": "0c87a1eb70174f98aabd952071243751",
       "version_major": 2,
       "version_minor": 0
      },
      "text/plain": [
       "  0%|          | 0/200 [00:00<?, ?it/s]"
      ]
     },
     "metadata": {},
     "output_type": "display_data"
    },
    {
     "data": {
      "application/vnd.jupyter.widget-view+json": {
       "model_id": "59dfa0fad5e44c0c8a336d5a9749931d",
       "version_major": 2,
       "version_minor": 0
      },
      "text/plain": [
       "  0%|          | 0/1000 [00:00<?, ?it/s]"
      ]
     },
     "metadata": {},
     "output_type": "display_data"
    },
    {
     "data": {
      "application/vnd.jupyter.widget-view+json": {
       "model_id": "d2e95da2db184036beeb75bce5ea53db",
       "version_major": 2,
       "version_minor": 0
      },
      "text/plain": [
       "  0%|          | 0/200 [00:00<?, ?it/s]"
      ]
     },
     "metadata": {},
     "output_type": "display_data"
    },
    {
     "data": {
      "application/vnd.jupyter.widget-view+json": {
       "model_id": "fb3c3d269652489ea1f4732a4cb230b6",
       "version_major": 2,
       "version_minor": 0
      },
      "text/plain": [
       "  0%|          | 0/400 [00:00<?, ?it/s]"
      ]
     },
     "metadata": {},
     "output_type": "display_data"
    },
    {
     "data": {
      "application/vnd.jupyter.widget-view+json": {
       "model_id": "2b77072a030e436faad8857d6b074f9c",
       "version_major": 2,
       "version_minor": 0
      },
      "text/plain": [
       "  0%|          | 0/400 [00:00<?, ?it/s]"
      ]
     },
     "metadata": {},
     "output_type": "display_data"
    },
    {
     "data": {
      "application/vnd.jupyter.widget-view+json": {
       "model_id": "71a26c1b88d34fd1b491d8fe8f1123a0",
       "version_major": 2,
       "version_minor": 0
      },
      "text/plain": [
       "  0%|          | 0/1000 [00:00<?, ?it/s]"
      ]
     },
     "metadata": {},
     "output_type": "display_data"
    },
    {
     "data": {
      "application/vnd.jupyter.widget-view+json": {
       "model_id": "4ad503258cec48848140eab83aa0b1ed",
       "version_major": 2,
       "version_minor": 0
      },
      "text/plain": [
       "  0%|          | 0/400 [00:00<?, ?it/s]"
      ]
     },
     "metadata": {},
     "output_type": "display_data"
    },
    {
     "data": {
      "application/vnd.jupyter.widget-view+json": {
       "model_id": "6ca909bb36ba45f89b4551cbd365fe49",
       "version_major": 2,
       "version_minor": 0
      },
      "text/plain": [
       "  0%|          | 0/800 [00:00<?, ?it/s]"
      ]
     },
     "metadata": {},
     "output_type": "display_data"
    },
    {
     "data": {
      "application/vnd.jupyter.widget-view+json": {
       "model_id": "9be5415139a34391b70d0f0ff9db30b1",
       "version_major": 2,
       "version_minor": 0
      },
      "text/plain": [
       "  0%|          | 0/800 [00:00<?, ?it/s]"
      ]
     },
     "metadata": {},
     "output_type": "display_data"
    },
    {
     "data": {
      "application/vnd.jupyter.widget-view+json": {
       "model_id": "5a33b80d74c9415597545ca8de3ed57d",
       "version_major": 2,
       "version_minor": 0
      },
      "text/plain": [
       "  0%|          | 0/1000 [00:00<?, ?it/s]"
      ]
     },
     "metadata": {},
     "output_type": "display_data"
    },
    {
     "data": {
      "application/vnd.jupyter.widget-view+json": {
       "model_id": "b39180801a624728a374823370ec1088",
       "version_major": 2,
       "version_minor": 0
      },
      "text/plain": [
       "  0%|          | 0/800 [00:00<?, ?it/s]"
      ]
     },
     "metadata": {},
     "output_type": "display_data"
    },
    {
     "data": {
      "application/vnd.jupyter.widget-view+json": {
       "model_id": "d6317e0f863b4208964792116097fe75",
       "version_major": 2,
       "version_minor": 0
      },
      "text/plain": [
       "  0%|          | 0/1600 [00:00<?, ?it/s]"
      ]
     },
     "metadata": {},
     "output_type": "display_data"
    },
    {
     "data": {
      "application/vnd.jupyter.widget-view+json": {
       "model_id": "b5ed77428a844067a370b656f26b5112",
       "version_major": 2,
       "version_minor": 0
      },
      "text/plain": [
       "  0%|          | 0/1600 [00:00<?, ?it/s]"
      ]
     },
     "metadata": {},
     "output_type": "display_data"
    },
    {
     "data": {
      "application/vnd.jupyter.widget-view+json": {
       "model_id": "51813d68237a42c5b27590a9db393c9b",
       "version_major": 2,
       "version_minor": 0
      },
      "text/plain": [
       "  0%|          | 0/1000 [00:00<?, ?it/s]"
      ]
     },
     "metadata": {},
     "output_type": "display_data"
    },
    {
     "data": {
      "application/vnd.jupyter.widget-view+json": {
       "model_id": "4c52273ea4e542d5bba3ce19682995ff",
       "version_major": 2,
       "version_minor": 0
      },
      "text/plain": [
       "  0%|          | 0/1600 [00:00<?, ?it/s]"
      ]
     },
     "metadata": {},
     "output_type": "display_data"
    },
    {
     "data": {
      "application/vnd.jupyter.widget-view+json": {
       "model_id": "c1a2763d177843a7b530804ad866df97",
       "version_major": 2,
       "version_minor": 0
      },
      "text/plain": [
       "  0%|          | 0/3200 [00:00<?, ?it/s]"
      ]
     },
     "metadata": {},
     "output_type": "display_data"
    },
    {
     "data": {
      "application/vnd.jupyter.widget-view+json": {
       "model_id": "e9c0bdf50a234827a717dbe5a46c301b",
       "version_major": 2,
       "version_minor": 0
      },
      "text/plain": [
       "  0%|          | 0/3200 [00:00<?, ?it/s]"
      ]
     },
     "metadata": {},
     "output_type": "display_data"
    },
    {
     "data": {
      "application/vnd.jupyter.widget-view+json": {
       "model_id": "f2a2b1dc269a450083be6f1865cdceb3",
       "version_major": 2,
       "version_minor": 0
      },
      "text/plain": [
       "  0%|          | 0/1000 [00:00<?, ?it/s]"
      ]
     },
     "metadata": {},
     "output_type": "display_data"
    },
    {
     "data": {
      "application/vnd.jupyter.widget-view+json": {
       "model_id": "6ed60fef40c347a796abc3cc8d44fdfc",
       "version_major": 2,
       "version_minor": 0
      },
      "text/plain": [
       "  0%|          | 0/3200 [00:00<?, ?it/s]"
      ]
     },
     "metadata": {},
     "output_type": "display_data"
    },
    {
     "data": {
      "application/vnd.jupyter.widget-view+json": {
       "model_id": "9ed986603c804e76b83997ec42c3ad45",
       "version_major": 2,
       "version_minor": 0
      },
      "text/plain": [
       "  0%|          | 0/6400 [00:00<?, ?it/s]"
      ]
     },
     "metadata": {},
     "output_type": "display_data"
    },
    {
     "data": {
      "application/vnd.jupyter.widget-view+json": {
       "model_id": "81a16c5ae86a45b6a36e4f1608d1e6f2",
       "version_major": 2,
       "version_minor": 0
      },
      "text/plain": [
       "  0%|          | 0/6400 [00:00<?, ?it/s]"
      ]
     },
     "metadata": {},
     "output_type": "display_data"
    },
    {
     "data": {
      "application/vnd.jupyter.widget-view+json": {
       "model_id": "65cf0de2ef2b488095b501a62cb25223",
       "version_major": 2,
       "version_minor": 0
      },
      "text/plain": [
       "  0%|          | 0/1000 [00:00<?, ?it/s]"
      ]
     },
     "metadata": {},
     "output_type": "display_data"
    },
    {
     "data": {
      "application/vnd.jupyter.widget-view+json": {
       "model_id": "3c7877c431494b3cae1e7ebbd37b3709",
       "version_major": 2,
       "version_minor": 0
      },
      "text/plain": [
       "  0%|          | 0/6400 [00:00<?, ?it/s]"
      ]
     },
     "metadata": {},
     "output_type": "display_data"
    },
    {
     "data": {
      "application/vnd.jupyter.widget-view+json": {
       "model_id": "c84881a7f3ee411ea289d018469bf014",
       "version_major": 2,
       "version_minor": 0
      },
      "text/plain": [
       "  0%|          | 0/12800 [00:00<?, ?it/s]"
      ]
     },
     "metadata": {},
     "output_type": "display_data"
    },
    {
     "data": {
      "application/vnd.jupyter.widget-view+json": {
       "model_id": "2efcbc15bb014652859c0efb006cba6f",
       "version_major": 2,
       "version_minor": 0
      },
      "text/plain": [
       "  0%|          | 0/12800 [00:00<?, ?it/s]"
      ]
     },
     "metadata": {},
     "output_type": "display_data"
    },
    {
     "data": {
      "application/vnd.jupyter.widget-view+json": {
       "model_id": "74f5e52a906b4d21ae62238d126cac7a",
       "version_major": 2,
       "version_minor": 0
      },
      "text/plain": [
       "  0%|          | 0/1000 [00:00<?, ?it/s]"
      ]
     },
     "metadata": {},
     "output_type": "display_data"
    },
    {
     "data": {
      "application/vnd.jupyter.widget-view+json": {
       "model_id": "967e88c7acfc421c84072f617f192ebb",
       "version_major": 2,
       "version_minor": 0
      },
      "text/plain": [
       "  0%|          | 0/12800 [00:00<?, ?it/s]"
      ]
     },
     "metadata": {},
     "output_type": "display_data"
    },
    {
     "data": {
      "application/vnd.jupyter.widget-view+json": {
       "model_id": "623587f14b6c4cffa33a91bbea044a66",
       "version_major": 2,
       "version_minor": 0
      },
      "text/plain": [
       "  0%|          | 0/25600 [00:00<?, ?it/s]"
      ]
     },
     "metadata": {},
     "output_type": "display_data"
    },
    {
     "data": {
      "application/vnd.jupyter.widget-view+json": {
       "model_id": "853454dffd274d29b670e173bda1d122",
       "version_major": 2,
       "version_minor": 0
      },
      "text/plain": [
       "  0%|          | 0/25600 [00:00<?, ?it/s]"
      ]
     },
     "metadata": {},
     "output_type": "display_data"
    },
    {
     "data": {
      "application/vnd.jupyter.widget-view+json": {
       "model_id": "62d79eea805442a39959119eb7d69e3d",
       "version_major": 2,
       "version_minor": 0
      },
      "text/plain": [
       "  0%|          | 0/1000 [00:00<?, ?it/s]"
      ]
     },
     "metadata": {},
     "output_type": "display_data"
    },
    {
     "data": {
      "application/vnd.jupyter.widget-view+json": {
       "model_id": "31a1703f682d486892b1acbf1525d0ea",
       "version_major": 2,
       "version_minor": 0
      },
      "text/plain": [
       "  0%|          | 0/25600 [00:00<?, ?it/s]"
      ]
     },
     "metadata": {},
     "output_type": "display_data"
    },
    {
     "name": "stdout",
     "output_type": "stream",
     "text": [
      "100\t\t0.5900\t\t0.6495\t\t0.2692\t\t0.3807\n",
      "200\t\t0.6490\t\t0.7647\t\t0.3611\t\t0.4906\n",
      "400\t\t0.6930\t\t0.7361\t\t0.5363\t\t0.6205\n",
      "800\t\t0.7210\t\t0.8649\t\t0.4786\t\t0.6162\n",
      "1600\t\t0.7300\t\t0.8322\t\t0.5299\t\t0.6475\n",
      "3200\t\t0.7400\t\t0.8210\t\t0.5684\t\t0.6717\n",
      "6400\t\t0.7420\t\t0.8088\t\t0.5876\t\t0.6807\n",
      "12800\t\t0.7470\t\t0.7994\t\t0.6132\t\t0.6941\n",
      "25600\t\t0.7510\t\t0.7984\t\t0.6261\t\t0.7018\n"
     ]
    }
   ],
   "source": [
    "toprints=[]\n",
    "for i in range(9):\n",
    "    num = [100, 200, 400, 800, 1600, 3200, 6400, 12800, 25600][i]\n",
    "    x_train = data_features[:num]\n",
    "    y_train = data_target[:num]\n",
    "\n",
    "    x_train_real = x_train*2**(-1)\n",
    "    x_test_real = x_test*2**(-1)\n",
    "\n",
    "    qc = QCalculator(z_feature_map(feature_dimension=8, reps=2))\n",
    "    qc.calculate_kernel(x_train_real)\n",
    "    qc.svm(1, y_train)\n",
    "    predictions = qc.predict(x_test_real, y_test)\n",
    "\n",
    "    met_ac = metrics.accuracy_score(y_true=y_test, y_pred=predictions)\n",
    "    met_pr = metrics.precision_score(y_true=y_test, y_pred=predictions)\n",
    "    met_rec = metrics.recall_score(y_true=y_test, y_pred=predictions)\n",
    "    met_f1 = metrics.f1_score(y_true=y_test, y_pred=predictions)\n",
    "    toprints += [f\"{num}\\t\\t{met_ac:.4f}\\t\\t{met_pr:.4f}\\t\\t{met_rec:.4f}\\t\\t{met_f1:.4f}\"]\n",
    "\n",
    "for x in toprints:\n",
    "    print(x)"
   ]
  },
  {
   "cell_type": "markdown",
   "id": "23833ebd",
   "metadata": {},
   "source": [
    "depending on number of tests...\n",
    "\n",
    "100\t\t0.6430\t\t0.7342\t\t0.3718\t\t0.4936\n",
    "200\t\t0.6750\t\t0.7544\t\t0.4530\t\t0.5661\n",
    "400\t\t0.7240\t\t0.7637\t\t0.5940\t\t0.6683\n",
    "800\t\t0.7420\t\t0.8125\t\t0.5833\t\t0.6791\n",
    "1600\t\t0.7440\t\t0.8081\t\t0.5940\t\t0.6847\n",
    "3200\t\t0.7520\t\t0.8125\t\t0.6111\t\t0.6976\n",
    "6400\t\t0.7520\t\t0.8039\t\t0.6218\t\t0.7012\n",
    "12800\t\t0.7550\t\t0.8038\t\t0.6303\t\t0.7066\n",
    "25600\t\t0.7560\t\t0.8011\t\t0.6368\t\t0.7095"
   ]
  },
  {
   "cell_type": "code",
   "execution_count": 7,
   "id": "40779059",
   "metadata": {},
   "outputs": [
    {
     "data": {
      "application/vnd.jupyter.widget-view+json": {
       "model_id": "0063b22f1cd9444e9b0f984d1621fefb",
       "version_major": 2,
       "version_minor": 0
      },
      "text/plain": [
       "  0%|          | 0/1000 [00:00<?, ?it/s]"
      ]
     },
     "metadata": {},
     "output_type": "display_data"
    },
    {
     "data": {
      "application/vnd.jupyter.widget-view+json": {
       "model_id": "9ff03038b92f4d3b96f3e12d2107645c",
       "version_major": 2,
       "version_minor": 0
      },
      "text/plain": [
       "  0%|          | 0/1000 [00:00<?, ?it/s]"
      ]
     },
     "metadata": {},
     "output_type": "display_data"
    },
    {
     "data": {
      "application/vnd.jupyter.widget-view+json": {
       "model_id": "81cd9a8e29184c13bce942e89b9aa49d",
       "version_major": 2,
       "version_minor": 0
      },
      "text/plain": [
       "  0%|          | 0/1000 [00:00<?, ?it/s]"
      ]
     },
     "metadata": {},
     "output_type": "display_data"
    },
    {
     "data": {
      "application/vnd.jupyter.widget-view+json": {
       "model_id": "9e3d7f33a05e4bcc94608c97e952ccb1",
       "version_major": 2,
       "version_minor": 0
      },
      "text/plain": [
       "  0%|          | 0/1000 [00:00<?, ?it/s]"
      ]
     },
     "metadata": {},
     "output_type": "display_data"
    },
    {
     "data": {
      "application/vnd.jupyter.widget-view+json": {
       "model_id": "b5d36976491145f4b6271eb9e42cd35b",
       "version_major": 2,
       "version_minor": 0
      },
      "text/plain": [
       "  0%|          | 0/1000 [00:00<?, ?it/s]"
      ]
     },
     "metadata": {},
     "output_type": "display_data"
    },
    {
     "data": {
      "application/vnd.jupyter.widget-view+json": {
       "model_id": "77592c0c931a49a9a9260f2627ab00a6",
       "version_major": 2,
       "version_minor": 0
      },
      "text/plain": [
       "  0%|          | 0/1000 [00:00<?, ?it/s]"
      ]
     },
     "metadata": {},
     "output_type": "display_data"
    },
    {
     "data": {
      "application/vnd.jupyter.widget-view+json": {
       "model_id": "f9bfe9f4f6844c2d9defba8f569961d7",
       "version_major": 2,
       "version_minor": 0
      },
      "text/plain": [
       "  0%|          | 0/1000 [00:00<?, ?it/s]"
      ]
     },
     "metadata": {},
     "output_type": "display_data"
    },
    {
     "data": {
      "application/vnd.jupyter.widget-view+json": {
       "model_id": "57f8b73c55a34a968f3743ed28ec8a15",
       "version_major": 2,
       "version_minor": 0
      },
      "text/plain": [
       "  0%|          | 0/1000 [00:00<?, ?it/s]"
      ]
     },
     "metadata": {},
     "output_type": "display_data"
    },
    {
     "data": {
      "application/vnd.jupyter.widget-view+json": {
       "model_id": "80f3c5f9a4ab4d2a8b4ff53bd0c9a1f5",
       "version_major": 2,
       "version_minor": 0
      },
      "text/plain": [
       "  0%|          | 0/1000 [00:00<?, ?it/s]"
      ]
     },
     "metadata": {},
     "output_type": "display_data"
    },
    {
     "data": {
      "application/vnd.jupyter.widget-view+json": {
       "model_id": "67a99f4a17be4da29b8e5ca41fed0074",
       "version_major": 2,
       "version_minor": 0
      },
      "text/plain": [
       "  0%|          | 0/1000 [00:00<?, ?it/s]"
      ]
     },
     "metadata": {},
     "output_type": "display_data"
    },
    {
     "data": {
      "application/vnd.jupyter.widget-view+json": {
       "model_id": "3a9c192cb05b4ddba660986f2bd44e38",
       "version_major": 2,
       "version_minor": 0
      },
      "text/plain": [
       "  0%|          | 0/1000 [00:00<?, ?it/s]"
      ]
     },
     "metadata": {},
     "output_type": "display_data"
    },
    {
     "data": {
      "application/vnd.jupyter.widget-view+json": {
       "model_id": "c748d0e18ff1489db6eacbfbc73de3a6",
       "version_major": 2,
       "version_minor": 0
      },
      "text/plain": [
       "  0%|          | 0/1000 [00:00<?, ?it/s]"
      ]
     },
     "metadata": {},
     "output_type": "display_data"
    },
    {
     "data": {
      "application/vnd.jupyter.widget-view+json": {
       "model_id": "90ec0fde67ef4c5da1f6ce423591c2c5",
       "version_major": 2,
       "version_minor": 0
      },
      "text/plain": [
       "  0%|          | 0/1000 [00:00<?, ?it/s]"
      ]
     },
     "metadata": {},
     "output_type": "display_data"
    },
    {
     "data": {
      "application/vnd.jupyter.widget-view+json": {
       "model_id": "61835bf88ee84911a8257ebe787f59b5",
       "version_major": 2,
       "version_minor": 0
      },
      "text/plain": [
       "  0%|          | 0/1000 [00:00<?, ?it/s]"
      ]
     },
     "metadata": {},
     "output_type": "display_data"
    },
    {
     "data": {
      "application/vnd.jupyter.widget-view+json": {
       "model_id": "3fbe43dbc30b4219b8f9cc48181da9eb",
       "version_major": 2,
       "version_minor": 0
      },
      "text/plain": [
       "  0%|          | 0/1000 [00:00<?, ?it/s]"
      ]
     },
     "metadata": {},
     "output_type": "display_data"
    },
    {
     "data": {
      "application/vnd.jupyter.widget-view+json": {
       "model_id": "5f89f1118b044d6c94d9cd0e6c0c39ac",
       "version_major": 2,
       "version_minor": 0
      },
      "text/plain": [
       "  0%|          | 0/1000 [00:00<?, ?it/s]"
      ]
     },
     "metadata": {},
     "output_type": "display_data"
    },
    {
     "data": {
      "application/vnd.jupyter.widget-view+json": {
       "model_id": "31fbef05e69a4bfb8a646ecf9dcc6d2a",
       "version_major": 2,
       "version_minor": 0
      },
      "text/plain": [
       "  0%|          | 0/1000 [00:00<?, ?it/s]"
      ]
     },
     "metadata": {},
     "output_type": "display_data"
    },
    {
     "data": {
      "application/vnd.jupyter.widget-view+json": {
       "model_id": "289b917113f24057bf70ffb3f3be3193",
       "version_major": 2,
       "version_minor": 0
      },
      "text/plain": [
       "  0%|          | 0/1000 [00:00<?, ?it/s]"
      ]
     },
     "metadata": {},
     "output_type": "display_data"
    },
    {
     "data": {
      "application/vnd.jupyter.widget-view+json": {
       "model_id": "6c1a7ae13e384d96b9bf5598a368d960",
       "version_major": 2,
       "version_minor": 0
      },
      "text/plain": [
       "  0%|          | 0/1000 [00:00<?, ?it/s]"
      ]
     },
     "metadata": {},
     "output_type": "display_data"
    },
    {
     "data": {
      "application/vnd.jupyter.widget-view+json": {
       "model_id": "b11882c67c4747898f707ef6272b196f",
       "version_major": 2,
       "version_minor": 0
      },
      "text/plain": [
       "  0%|          | 0/1000 [00:00<?, ?it/s]"
      ]
     },
     "metadata": {},
     "output_type": "display_data"
    },
    {
     "data": {
      "application/vnd.jupyter.widget-view+json": {
       "model_id": "78ab4d180afe4366a6d4ee13bd7c1a89",
       "version_major": 2,
       "version_minor": 0
      },
      "text/plain": [
       "  0%|          | 0/1000 [00:00<?, ?it/s]"
      ]
     },
     "metadata": {},
     "output_type": "display_data"
    },
    {
     "data": {
      "application/vnd.jupyter.widget-view+json": {
       "model_id": "72a41d8a7f7d4c758dc6e99fd0f09b00",
       "version_major": 2,
       "version_minor": 0
      },
      "text/plain": [
       "  0%|          | 0/1000 [00:00<?, ?it/s]"
      ]
     },
     "metadata": {},
     "output_type": "display_data"
    },
    {
     "data": {
      "application/vnd.jupyter.widget-view+json": {
       "model_id": "12dba3b759094987a878b4502371deb3",
       "version_major": 2,
       "version_minor": 0
      },
      "text/plain": [
       "  0%|          | 0/1000 [00:00<?, ?it/s]"
      ]
     },
     "metadata": {},
     "output_type": "display_data"
    },
    {
     "data": {
      "application/vnd.jupyter.widget-view+json": {
       "model_id": "4460fce890484869b1f1978a979c69d9",
       "version_major": 2,
       "version_minor": 0
      },
      "text/plain": [
       "  0%|          | 0/1000 [00:00<?, ?it/s]"
      ]
     },
     "metadata": {},
     "output_type": "display_data"
    },
    {
     "name": "stdout",
     "output_type": "stream",
     "text": [
      "0.5\t\t0.7130\t\t0.8694\t\t0.4551\t\t0.5975\n",
      "1.0\t\t0.7300\t\t0.8438\t\t0.5192\t\t0.6429\n",
      "2.0\t\t0.7370\t\t0.8339\t\t0.5470\t\t0.6606\n",
      "3.0\t\t0.7380\t\t0.8179\t\t0.5662\t\t0.6692\n",
      "4.0\t\t0.7420\t\t0.8070\t\t0.5897\t\t0.6815\n",
      "5.0\t\t0.7450\t\t0.8160\t\t0.5876\t\t0.6832\n"
     ]
    }
   ],
   "source": [
    "toprints=[]\n",
    "C_wide = np.array([0.5,1,2,3,4,5])\n",
    "for c in C_wide:\n",
    "    x_train = data_features[:1000]\n",
    "    y_train = data_target[:1000]\n",
    "\n",
    "    x_train_real = x_train*2**(-1)\n",
    "    x_test_real = x_test*2**(-1)\n",
    "\n",
    "    qc = QCalculator(z_feature_map(feature_dimension=8, reps=2))\n",
    "    qc.calculate_kernel(x_train_real)\n",
    "    qc.svm(c, y_train)\n",
    "    predictions = qc.predict(x_test_real, y_test)\n",
    "\n",
    "    met_ac = metrics.accuracy_score(y_true=y_test, y_pred=predictions)\n",
    "    met_pr = metrics.precision_score(y_true=y_test, y_pred=predictions)\n",
    "    met_rec = metrics.recall_score(y_true=y_test, y_pred=predictions)\n",
    "    met_f1 = metrics.f1_score(y_true=y_test, y_pred=predictions)\n",
    "    toprints += [f\"{c}\\t\\t{met_ac:.4f}\\t\\t{met_pr:.4f}\\t\\t{met_rec:.4f}\\t\\t{met_f1:.4f}\"]\n",
    "\n",
    "for x in toprints:\n",
    "    print(x)"
   ]
  },
  {
   "cell_type": "markdown",
   "id": "3eff5aac",
   "metadata": {},
   "source": [
    "0.001\t\t0.5320\t\t0.0000\t\t0.0000\t\t0.0000\n",
    "0.01\t\t0.5320\t\t0.0000\t\t0.0000\t\t0.0000\n",
    "0.1\t\t    0.7000\t\t0.8415\t\t0.4423\t\t0.5798\n",
    "1.0\t\t    0.7430\t\t0.8112\t\t0.5876\t\t0.6815\n",
    "10.0\t\t0.7320\t\t0.7475\t\t0.6453\t\t0.6927\n",
    "100.0\t\t0.7270\t\t0.7273\t\t0.6667\t\t0.6957\n",
    "1000.0\t\t0.7050\t\t0.6860\t\t0.6816\t\t0.6838\n",
    "\n",
    "0.5\t\t0.7310\t\t0.7988\t\t0.5684\t\t0.6642\n",
    "1.0\t\t0.7430\t\t0.8112\t\t0.5876\t\t0.6815\n",
    "2.0\t\t0.7500\t\t0.7995\t\t0.6218\t\t0.6995\n",
    "3.0\t\t0.7520\t\t0.7957\t\t0.6325\t\t0.7048 // sweet spot\n",
    "4.0\t\t0.7450\t\t0.7825\t\t0.6303\t\t0.6982\n",
    "5.0\t\t0.7420\t\t0.7778\t\t0.6282\t\t0.6950"
   ]
  }
 ],
 "metadata": {
  "kernelspec": {
   "display_name": "venv",
   "language": "python",
   "name": "python3"
  },
  "language_info": {
   "codemirror_mode": {
    "name": "ipython",
    "version": 3
   },
   "file_extension": ".py",
   "mimetype": "text/x-python",
   "name": "python",
   "nbconvert_exporter": "python",
   "pygments_lexer": "ipython3",
   "version": "3.10.12"
  }
 },
 "nbformat": 4,
 "nbformat_minor": 5
}
