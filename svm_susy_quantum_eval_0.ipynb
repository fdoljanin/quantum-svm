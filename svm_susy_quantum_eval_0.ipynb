{
 "cells": [
  {
   "cell_type": "code",
   "execution_count": 1,
   "id": "bc0183d9",
   "metadata": {},
   "outputs": [],
   "source": [
    "import numpy as np\n",
    "import pandas as pd\n",
    "import matplotlib.pyplot as plt\n",
    "import seaborn as sns\n",
    "from sklearn import linear_model\n",
    "from sklearn.model_selection import train_test_split\n",
    "import gc\n",
    "from sklearn.preprocessing import MinMaxScaler\n",
    "\n",
    "from qiskit.circuit.library import z_feature_map, zz_feature_map, pauli_feature_map\n",
    "from qiskit.circuit.library import unitary_overlap\n",
    "from qiskit import transpile\n",
    "from qiskit.quantum_info import Statevector, state_fidelity\n",
    "from qiskit_aer import AerSimulator"
   ]
  },
  {
   "cell_type": "code",
   "execution_count": 2,
   "id": "1df2e7a1",
   "metadata": {},
   "outputs": [],
   "source": [
    "RELEVANT_FEATURES = [\n",
    "    1,2,3,4,5,6,7,8\n",
    "]\n",
    "\n",
    "\n",
    "TARGET = 0"
   ]
  },
  {
   "cell_type": "code",
   "execution_count": 3,
   "id": "0561ec49",
   "metadata": {},
   "outputs": [],
   "source": [
    "data = pd.read_csv(\"SUSY.csv.gz\", nrows=10_000, header=None)\n",
    "data = data.dropna(subset=[TARGET, *RELEVANT_FEATURES])"
   ]
  },
  {
   "cell_type": "code",
   "execution_count": 4,
   "id": "6ccd896f",
   "metadata": {},
   "outputs": [],
   "source": [
    "data_features = MinMaxScaler(feature_range=(-np.pi/2, np.pi/2)).fit_transform(data[RELEVANT_FEATURES])\n",
    "data_target = data[TARGET]\n",
    "\n",
    "x_train = data_features[:500]\n",
    "y_train = data_target[:500]\n",
    "x_test = data_features[-500:]\n",
    "y_test = data_target[-500:]"
   ]
  },
  {
   "cell_type": "code",
   "execution_count": 16,
   "id": "ed3ee100",
   "metadata": {},
   "outputs": [
    {
     "data": {
      "text/plain": [
       "np.int64(273)"
      ]
     },
     "execution_count": 16,
     "metadata": {},
     "output_type": "execute_result"
    }
   ],
   "source": [
    "np.sum(y_test == 0)"
   ]
  },
  {
   "cell_type": "code",
   "execution_count": 5,
   "id": "dc2fd68b",
   "metadata": {},
   "outputs": [
    {
     "name": "stdout",
     "output_type": "stream",
     "text": [
      "0\t\t0.7180\t\t0.7722\t\t0.5374\t\t0.6338\n",
      "1\t\t0.7180\t\t0.7722\t\t0.5374\t\t0.6338\n",
      "2\t\t0.7180\t\t0.7722\t\t0.5374\t\t0.6338\n",
      "3\t\t0.7180\t\t0.7722\t\t0.5374\t\t0.6338\n",
      "4\t\t0.7180\t\t0.7722\t\t0.5374\t\t0.6338\n",
      "5\t\t0.7180\t\t0.7722\t\t0.5374\t\t0.6338\n",
      "6\t\t0.7180\t\t0.7722\t\t0.5374\t\t0.6338\n",
      "7\t\t0.7180\t\t0.7722\t\t0.5374\t\t0.6338\n"
     ]
    }
   ],
   "source": [
    "from sklearn import svm\n",
    "from sklearn import metrics\n",
    "\n",
    "svm_linear = svm.SVC(kernel='rbf')\n",
    "\n",
    "for i in range(8):\n",
    "    x_train_real = x_train*2**(-i)\n",
    "    x_test_real = x_test*2**(-i)\n",
    "\n",
    "    svm_linear.fit(x_train_real, y_train)\n",
    "    predictions = svm_linear.predict(x_test_real)\n",
    "\n",
    "    met_ac = metrics.accuracy_score(y_true=y_test, y_pred=predictions)\n",
    "    met_pr = metrics.precision_score(y_true=y_test, y_pred=predictions)\n",
    "    met_rec = metrics.recall_score(y_true=y_test, y_pred=predictions)\n",
    "    met_f1 = metrics.f1_score(y_true=y_test, y_pred=predictions)\n",
    "\n",
    "    print(f\"{i}\\t\\t{met_ac:.4f}\\t\\t{met_pr:.4f}\\t\\t{met_rec:.4f}\\t\\t{met_f1:.4f}\")\n"
   ]
  },
  {
   "cell_type": "markdown",
   "id": "8aa76747",
   "metadata": {},
   "source": [
    "svm-rbf\n",
    "alpha   accuracy    precision   recall      f1\n",
    "0\t\t0.7180\t\t0.7722\t\t0.5374\t\t0.6338\n",
    "1\t\t0.7180\t\t0.7722\t\t0.5374\t\t0.6338\n",
    "2\t\t0.7180\t\t0.7722\t\t0.5374\t\t0.6338\n",
    "3\t\t0.7180\t\t0.7722\t\t0.5374\t\t0.6338\n",
    "4\t\t0.7180\t\t0.7722\t\t0.5374\t\t0.6338\n",
    "5\t\t0.7180\t\t0.7722\t\t0.5374\t\t0.6338\n",
    "6\t\t0.7180\t\t0.7722\t\t0.5374\t\t0.6338\n",
    "7\t\t0.7180\t\t0.7722\t\t0.5374\t\t0.6338"
   ]
  },
  {
   "cell_type": "code",
   "execution_count": null,
   "id": "65c816c5",
   "metadata": {},
   "outputs": [],
   "source": [
    "from qiskit import transpile\n",
    "from qiskit_aer import AerSimulator\n",
    "from qiskit.circuit.library import ZFeatureMap, ZZFeatureMap\n",
    "from tqdm.notebook import tqdm\n",
    "from sklearn import svm\n",
    "from sklearn import metrics\n",
    "\n",
    "class QCalculator:\n",
    "    def __init__(self, fm):\n",
    "        self.fm = fm\n",
    "        self.calculated = {}\n",
    "        self.kernel = None\n",
    "\n",
    "    def psi(self, x):\n",
    "        qc = self.fm.assign_parameters(x)\n",
    "        return Statevector.from_instruction(qc)\n",
    "\n",
    "    def resolve_psi(self, mat):\n",
    "        out_cols = []\n",
    "        for row in tqdm(mat, leave=False):\n",
    "            key = tuple(row)\n",
    "            if key not in self.calculated:\n",
    "                self.calculated[key] = self.psi(row).data\n",
    "            out_cols.append(self.calculated[key])\n",
    "        return np.column_stack(out_cols)\n",
    "\n",
    "    def quantum_kernel(self, A, B):\n",
    "        PsiA = self.resolve_psi(A)\n",
    "        PsiB = self.resolve_psi(B)\n",
    "        G = PsiA.conj().T @ PsiB\n",
    "        return np.abs(G)**2\n",
    "\n",
    "    def calculate_kernel(self, x_train):\n",
    "        self.x_train = x_train\n",
    "        self.kernel = self.quantum_kernel(self.x_train, self.x_train) \n",
    "\n",
    "    def svm(self, c, y_train):\n",
    "        self.svm_linear = svm.SVC(kernel='precomputed', C=c)\n",
    "        self.svm_linear.fit(self.kernel, y_train)\n",
    "\n",
    "    def predict(self, x_test, y_test):\n",
    "        x_test_matrix = self.quantum_kernel(x_test, self.x_train)\n",
    "        self.predictions = self.svm_linear.predict(x_test_matrix)\n",
    "        return self.predictions\n",
    "                    "
   ]
  },
  {
   "cell_type": "code",
   "execution_count": null,
   "id": "01088c58",
   "metadata": {},
   "outputs": [
    {
     "data": {
      "application/vnd.jupyter.widget-view+json": {
       "model_id": "6812a675b0174da8802a31440671ced4",
       "version_major": 2,
       "version_minor": 0
      },
      "text/plain": [
       "  0%|          | 0/500 [00:00<?, ?it/s]"
      ]
     },
     "metadata": {},
     "output_type": "display_data"
    },
    {
     "data": {
      "application/vnd.jupyter.widget-view+json": {
       "model_id": "c448c26d23e1415492653cdee1e313e2",
       "version_major": 2,
       "version_minor": 0
      },
      "text/plain": [
       "  0%|          | 0/500 [00:00<?, ?it/s]"
      ]
     },
     "metadata": {},
     "output_type": "display_data"
    },
    {
     "data": {
      "application/vnd.jupyter.widget-view+json": {
       "model_id": "aebab208ab3a4118923a8f56a98cb890",
       "version_major": 2,
       "version_minor": 0
      },
      "text/plain": [
       "  0%|          | 0/500 [00:00<?, ?it/s]"
      ]
     },
     "metadata": {},
     "output_type": "display_data"
    },
    {
     "data": {
      "application/vnd.jupyter.widget-view+json": {
       "model_id": "ae553ee8b39246bc9a586cb9fe50e34d",
       "version_major": 2,
       "version_minor": 0
      },
      "text/plain": [
       "  0%|          | 0/500 [00:00<?, ?it/s]"
      ]
     },
     "metadata": {},
     "output_type": "display_data"
    },
    {
     "data": {
      "application/vnd.jupyter.widget-view+json": {
       "model_id": "734616532ac648a7a4372cf0d33fc671",
       "version_major": 2,
       "version_minor": 0
      },
      "text/plain": [
       "  0%|          | 0/500 [00:00<?, ?it/s]"
      ]
     },
     "metadata": {},
     "output_type": "display_data"
    },
    {
     "data": {
      "application/vnd.jupyter.widget-view+json": {
       "model_id": "ffc3fba431e34479a8010b64b23c275d",
       "version_major": 2,
       "version_minor": 0
      },
      "text/plain": [
       "  0%|          | 0/500 [00:00<?, ?it/s]"
      ]
     },
     "metadata": {},
     "output_type": "display_data"
    },
    {
     "data": {
      "application/vnd.jupyter.widget-view+json": {
       "model_id": "6668f4639f584384b65bcf352a22a6c7",
       "version_major": 2,
       "version_minor": 0
      },
      "text/plain": [
       "  0%|          | 0/500 [00:00<?, ?it/s]"
      ]
     },
     "metadata": {},
     "output_type": "display_data"
    },
    {
     "data": {
      "application/vnd.jupyter.widget-view+json": {
       "model_id": "80c8e0e341414800ad6421bfd7b8999f",
       "version_major": 2,
       "version_minor": 0
      },
      "text/plain": [
       "  0%|          | 0/500 [00:00<?, ?it/s]"
      ]
     },
     "metadata": {},
     "output_type": "display_data"
    },
    {
     "data": {
      "application/vnd.jupyter.widget-view+json": {
       "model_id": "a09247c511204643b7d20c6cf9b983cf",
       "version_major": 2,
       "version_minor": 0
      },
      "text/plain": [
       "  0%|          | 0/500 [00:00<?, ?it/s]"
      ]
     },
     "metadata": {},
     "output_type": "display_data"
    },
    {
     "data": {
      "application/vnd.jupyter.widget-view+json": {
       "model_id": "95789f5bc5ba44bab2a8c6f3da6729f6",
       "version_major": 2,
       "version_minor": 0
      },
      "text/plain": [
       "  0%|          | 0/500 [00:00<?, ?it/s]"
      ]
     },
     "metadata": {},
     "output_type": "display_data"
    },
    {
     "data": {
      "application/vnd.jupyter.widget-view+json": {
       "model_id": "dc45056f4ddd473ea71937957773e480",
       "version_major": 2,
       "version_minor": 0
      },
      "text/plain": [
       "  0%|          | 0/500 [00:00<?, ?it/s]"
      ]
     },
     "metadata": {},
     "output_type": "display_data"
    },
    {
     "data": {
      "application/vnd.jupyter.widget-view+json": {
       "model_id": "f24cb1b49f67406b803105b9aac49111",
       "version_major": 2,
       "version_minor": 0
      },
      "text/plain": [
       "  0%|          | 0/500 [00:00<?, ?it/s]"
      ]
     },
     "metadata": {},
     "output_type": "display_data"
    },
    {
     "data": {
      "application/vnd.jupyter.widget-view+json": {
       "model_id": "69080588a8cb48aaaa400485d30a8dfe",
       "version_major": 2,
       "version_minor": 0
      },
      "text/plain": [
       "  0%|          | 0/500 [00:00<?, ?it/s]"
      ]
     },
     "metadata": {},
     "output_type": "display_data"
    },
    {
     "data": {
      "application/vnd.jupyter.widget-view+json": {
       "model_id": "afe89ca72bee4aea8c928cd3326a957a",
       "version_major": 2,
       "version_minor": 0
      },
      "text/plain": [
       "  0%|          | 0/500 [00:00<?, ?it/s]"
      ]
     },
     "metadata": {},
     "output_type": "display_data"
    },
    {
     "data": {
      "application/vnd.jupyter.widget-view+json": {
       "model_id": "d9a4fc64d9834871bb7a3ce3d3bac62f",
       "version_major": 2,
       "version_minor": 0
      },
      "text/plain": [
       "  0%|          | 0/500 [00:00<?, ?it/s]"
      ]
     },
     "metadata": {},
     "output_type": "display_data"
    },
    {
     "data": {
      "application/vnd.jupyter.widget-view+json": {
       "model_id": "da59d081e71e491fa42fee03cc4cd1fb",
       "version_major": 2,
       "version_minor": 0
      },
      "text/plain": [
       "  0%|          | 0/500 [00:00<?, ?it/s]"
      ]
     },
     "metadata": {},
     "output_type": "display_data"
    },
    {
     "data": {
      "application/vnd.jupyter.widget-view+json": {
       "model_id": "e52712b1af50488c940974b074cd455b",
       "version_major": 2,
       "version_minor": 0
      },
      "text/plain": [
       "  0%|          | 0/500 [00:00<?, ?it/s]"
      ]
     },
     "metadata": {},
     "output_type": "display_data"
    },
    {
     "data": {
      "application/vnd.jupyter.widget-view+json": {
       "model_id": "7d9ff82677e84c0bb2eeae4819e860c6",
       "version_major": 2,
       "version_minor": 0
      },
      "text/plain": [
       "  0%|          | 0/500 [00:00<?, ?it/s]"
      ]
     },
     "metadata": {},
     "output_type": "display_data"
    },
    {
     "data": {
      "application/vnd.jupyter.widget-view+json": {
       "model_id": "f8f198e2176442b4a4003d2a05ada2ac",
       "version_major": 2,
       "version_minor": 0
      },
      "text/plain": [
       "  0%|          | 0/500 [00:00<?, ?it/s]"
      ]
     },
     "metadata": {},
     "output_type": "display_data"
    },
    {
     "data": {
      "application/vnd.jupyter.widget-view+json": {
       "model_id": "20b4c54dc7f14ee6a76626ef90f8476a",
       "version_major": 2,
       "version_minor": 0
      },
      "text/plain": [
       "  0%|          | 0/500 [00:00<?, ?it/s]"
      ]
     },
     "metadata": {},
     "output_type": "display_data"
    },
    {
     "data": {
      "application/vnd.jupyter.widget-view+json": {
       "model_id": "c41d2bea25e447a8819c4ab825d04ca3",
       "version_major": 2,
       "version_minor": 0
      },
      "text/plain": [
       "  0%|          | 0/500 [00:00<?, ?it/s]"
      ]
     },
     "metadata": {},
     "output_type": "display_data"
    },
    {
     "data": {
      "application/vnd.jupyter.widget-view+json": {
       "model_id": "ae08503de7ba481c82a6cb6d63d0e9d8",
       "version_major": 2,
       "version_minor": 0
      },
      "text/plain": [
       "  0%|          | 0/500 [00:00<?, ?it/s]"
      ]
     },
     "metadata": {},
     "output_type": "display_data"
    },
    {
     "data": {
      "application/vnd.jupyter.widget-view+json": {
       "model_id": "2cd7fd5e3dad4b40b2eba28e9f270f98",
       "version_major": 2,
       "version_minor": 0
      },
      "text/plain": [
       "  0%|          | 0/500 [00:00<?, ?it/s]"
      ]
     },
     "metadata": {},
     "output_type": "display_data"
    },
    {
     "data": {
      "application/vnd.jupyter.widget-view+json": {
       "model_id": "d1b82abcd0ca444f848a5a81b9f5c56c",
       "version_major": 2,
       "version_minor": 0
      },
      "text/plain": [
       "  0%|          | 0/500 [00:00<?, ?it/s]"
      ]
     },
     "metadata": {},
     "output_type": "display_data"
    },
    {
     "name": "stderr",
     "output_type": "stream",
     "text": [
      "/home/fdoljanin/repo/final-thesis/venv/lib/python3.10/site-packages/sklearn/metrics/_classification.py:1731: UndefinedMetricWarning: Precision is ill-defined and being set to 0.0 due to no predicted samples. Use `zero_division` parameter to control this behavior.\n",
      "  _warn_prf(average, modifier, f\"{metric.capitalize()} is\", result.shape[0])\n"
     ]
    },
    {
     "data": {
      "application/vnd.jupyter.widget-view+json": {
       "model_id": "359382f490e5439781704646bf1ee4da",
       "version_major": 2,
       "version_minor": 0
      },
      "text/plain": [
       "  0%|          | 0/500 [00:00<?, ?it/s]"
      ]
     },
     "metadata": {},
     "output_type": "display_data"
    },
    {
     "data": {
      "application/vnd.jupyter.widget-view+json": {
       "model_id": "56ab9652f2a34c3094671de7de5d4f9b",
       "version_major": 2,
       "version_minor": 0
      },
      "text/plain": [
       "  0%|          | 0/500 [00:00<?, ?it/s]"
      ]
     },
     "metadata": {},
     "output_type": "display_data"
    },
    {
     "data": {
      "application/vnd.jupyter.widget-view+json": {
       "model_id": "6a5f9e6892314e7cb99b2638f04b127a",
       "version_major": 2,
       "version_minor": 0
      },
      "text/plain": [
       "  0%|          | 0/500 [00:00<?, ?it/s]"
      ]
     },
     "metadata": {},
     "output_type": "display_data"
    },
    {
     "data": {
      "application/vnd.jupyter.widget-view+json": {
       "model_id": "97e7db8ffaa148d9beeeeb2bb9a8ab46",
       "version_major": 2,
       "version_minor": 0
      },
      "text/plain": [
       "  0%|          | 0/500 [00:00<?, ?it/s]"
      ]
     },
     "metadata": {},
     "output_type": "display_data"
    },
    {
     "name": "stderr",
     "output_type": "stream",
     "text": [
      "/home/fdoljanin/repo/final-thesis/venv/lib/python3.10/site-packages/sklearn/metrics/_classification.py:1731: UndefinedMetricWarning: Precision is ill-defined and being set to 0.0 due to no predicted samples. Use `zero_division` parameter to control this behavior.\n",
      "  _warn_prf(average, modifier, f\"{metric.capitalize()} is\", result.shape[0])\n"
     ]
    },
    {
     "data": {
      "application/vnd.jupyter.widget-view+json": {
       "model_id": "42e5bb4963c0464c85a29c88b44d7dce",
       "version_major": 2,
       "version_minor": 0
      },
      "text/plain": [
       "  0%|          | 0/500 [00:00<?, ?it/s]"
      ]
     },
     "metadata": {},
     "output_type": "display_data"
    },
    {
     "data": {
      "application/vnd.jupyter.widget-view+json": {
       "model_id": "32c1ad193a64420796ea2a4f01147662",
       "version_major": 2,
       "version_minor": 0
      },
      "text/plain": [
       "  0%|          | 0/500 [00:00<?, ?it/s]"
      ]
     },
     "metadata": {},
     "output_type": "display_data"
    },
    {
     "data": {
      "application/vnd.jupyter.widget-view+json": {
       "model_id": "889f73d2b5fe411498e194ca6d0a1b2b",
       "version_major": 2,
       "version_minor": 0
      },
      "text/plain": [
       "  0%|          | 0/500 [00:00<?, ?it/s]"
      ]
     },
     "metadata": {},
     "output_type": "display_data"
    },
    {
     "data": {
      "application/vnd.jupyter.widget-view+json": {
       "model_id": "0a0b586e6a6e432d98686e591b3dce58",
       "version_major": 2,
       "version_minor": 0
      },
      "text/plain": [
       "  0%|          | 0/500 [00:00<?, ?it/s]"
      ]
     },
     "metadata": {},
     "output_type": "display_data"
    },
    {
     "name": "stdout",
     "output_type": "stream",
     "text": [
      "0\t\t0.6240\t\t0.6027\t\t0.4037\t\t0.4835\n",
      "1\t\t0.7020\t\t0.6825\t\t0.5917\t\t0.6339\n",
      "2\t\t0.7120\t\t0.7372\t\t0.5275\t\t0.6150\n",
      "3\t\t0.6780\t\t0.7436\t\t0.3991\t\t0.5194\n",
      "4\t\t0.6060\t\t0.8889\t\t0.1101\t\t0.1959\n",
      "5\t\t0.5640\t\t0.0000\t\t0.0000\t\t0.0000\n",
      "6\t\t0.5640\t\t0.0000\t\t0.0000\t\t0.0000\n",
      "7\t\t0.5640\t\t0.0000\t\t0.0000\t\t0.0000\n"
     ]
    },
    {
     "name": "stderr",
     "output_type": "stream",
     "text": [
      "/home/fdoljanin/repo/final-thesis/venv/lib/python3.10/site-packages/sklearn/metrics/_classification.py:1731: UndefinedMetricWarning: Precision is ill-defined and being set to 0.0 due to no predicted samples. Use `zero_division` parameter to control this behavior.\n",
      "  _warn_prf(average, modifier, f\"{metric.capitalize()} is\", result.shape[0])\n"
     ]
    }
   ],
   "source": [
    "toprints = []\n",
    "for i in range(8):\n",
    "    x_train_real = x_train*2**(-i)\n",
    "    x_test_real = x_test*2**(-i)\n",
    "\n",
    "    qc = QCalculator(z_feature_map(feature_dimension=8, reps=4))\n",
    "    qc.calculate_kernel(x_train_real)\n",
    "    qc.svm(1, y_train)\n",
    "    predictions = qc.predict(x_test_real, y_test)\n",
    "\n",
    "    met_ac = metrics.accuracy_score(y_true=y_test, y_pred=predictions)\n",
    "    met_pr = metrics.precision_score(y_true=y_test, y_pred=predictions)\n",
    "    met_rec = metrics.recall_score(y_true=y_test, y_pred=predictions)\n",
    "    met_f1 = metrics.f1_score(y_true=y_test, y_pred=predictions)\n",
    "    toprints += [f\"{i}\\t\\t{met_ac:.4f}\\t\\t{met_pr:.4f}\\t\\t{met_rec:.4f}\\t\\t{met_f1:.4f}\"]\n",
    "\n",
    "for x in toprints:\n",
    "    print(x)"
   ]
  },
  {
   "cell_type": "code",
   "execution_count": 8,
   "id": "694ac9a8",
   "metadata": {},
   "outputs": [
    {
     "data": {
      "application/vnd.jupyter.widget-view+json": {
       "model_id": "1491444ac54b468a8c598364413a71c2",
       "version_major": 2,
       "version_minor": 0
      },
      "text/plain": [
       "  0%|          | 0/500 [00:00<?, ?it/s]"
      ]
     },
     "metadata": {},
     "output_type": "display_data"
    },
    {
     "data": {
      "application/vnd.jupyter.widget-view+json": {
       "model_id": "325ddf811d63450d8dfb8d71e91c2343",
       "version_major": 2,
       "version_minor": 0
      },
      "text/plain": [
       "  0%|          | 0/500 [00:00<?, ?it/s]"
      ]
     },
     "metadata": {},
     "output_type": "display_data"
    },
    {
     "data": {
      "application/vnd.jupyter.widget-view+json": {
       "model_id": "ed1f586ba29f4c63aae43c10e8df1758",
       "version_major": 2,
       "version_minor": 0
      },
      "text/plain": [
       "  0%|          | 0/500 [00:00<?, ?it/s]"
      ]
     },
     "metadata": {},
     "output_type": "display_data"
    },
    {
     "data": {
      "application/vnd.jupyter.widget-view+json": {
       "model_id": "65efd8dd04ff486293878a8a9a5bbc33",
       "version_major": 2,
       "version_minor": 0
      },
      "text/plain": [
       "  0%|          | 0/500 [00:00<?, ?it/s]"
      ]
     },
     "metadata": {},
     "output_type": "display_data"
    },
    {
     "name": "stdout",
     "output_type": "stream",
     "text": [
      "0.7700\t\t0.8294\t\t0.6211\t\t0.7103\n"
     ]
    }
   ],
   "source": [
    "x_train_real = x_train*2**(-1)\n",
    "x_test_real = x_test*2**(-1)\n",
    "\n",
    "qc = QCalculator(z_feature_map(feature_dimension=8, reps=2))\n",
    "qc.calculate_kernel(x_train_real)\n",
    "qc.svm(1, y_train)\n",
    "predictions = qc.predict(x_test_real, y_test)\n",
    "\n",
    "met_ac = metrics.accuracy_score(y_true=y_test, y_pred=predictions)\n",
    "met_pr = metrics.precision_score(y_true=y_test, y_pred=predictions)\n",
    "met_rec = metrics.recall_score(y_true=y_test, y_pred=predictions)\n",
    "met_f1 = metrics.f1_score(y_true=y_test, y_pred=predictions)\n",
    "print(f\"{met_ac:.4f}\\t\\t{met_pr:.4f}\\t\\t{met_rec:.4f}\\t\\t{met_f1:.4f}\")"
   ]
  },
  {
   "cell_type": "markdown",
   "id": "23833ebd",
   "metadata": {},
   "source": [
    "svm-zfm-rep1\n",
    "alpha   accuracy    precision   recall      f1\n",
    "0\t\t0.6940\t\t0.7176\t\t0.5374\t\t0.6146\n",
    "1\t\t0.6940\t\t0.7256\t\t0.5242\t\t0.6087\n",
    "2\t\t0.7220\t\t0.8929\t\t0.4405\t\t0.5900\n",
    "3\t\t0.6120\t\t0.9459\t\t0.1542\t\t0.2652\n",
    "4\t\t0.5460\t\t0.5000\t\t0.0044\t\t0.0087\n",
    "5\t\t0.5460\t\t0.0000\t\t0.0000\t\t0.0000\n",
    "6\t\t0.5460\t\t0.0000\t\t0.0000\t\t0.0000\n",
    "7\t\t0.5460\t\t0.0000\t\t0.0000\t\t0.0000\n",
    "\n",
    "svm-zfm-rep2\n",
    "0\t\t0.7360\t\t0.7914\t\t0.5683\t\t0.6615\n",
    "1\t\t0.7700\t\t0.8294\t\t0.6211\t\t0.7103\n",
    "2\t\t0.7120\t\t0.7943\t\t0.4934\t\t0.6087\n",
    "3\t\t0.6280\t\t0.8727\t\t0.2115\t\t0.3404\n",
    "4\t\t0.5460\t\t0.5000\t\t0.0044\t\t0.0087\n",
    "5\t\t0.5460\t\t0.0000\t\t0.0000\t\t0.0000\n",
    "6\t\t0.5460\t\t0.0000\t\t0.0000\t\t0.0000\n",
    "7\t\t0.5460\t\t0.0000\t\t0.0000\t\t0.0000\n",
    "\n",
    "svm-zfm-rep4\n",
    "0\t\t0.6860\t\t0.7134\t\t0.5154\t\t0.5985\n",
    "1\t\t0.7440\t\t0.7647\t\t0.6300\t\t0.6908\n",
    "2\t\t0.7420\t\t0.7917\t\t0.5859\t\t0.6734\n",
    "3\t\t0.7120\t\t0.7986\t\t0.4890\t\t0.6066\n",
    "4\t\t0.6240\t\t0.9333\t\t0.1850\t\t0.3088\n",
    "5\t\t0.5460\t\t0.5000\t\t0.0044\t\t0.0087\n",
    "6\t\t0.5460\t\t0.0000\t\t0.0000\t\t0.0000\n",
    "7\t\t0.5460\t\t0.0000\t\t0.0000\t\t0.0000"
   ]
  },
  {
   "cell_type": "code",
   "execution_count": null,
   "id": "8221dac5",
   "metadata": {},
   "outputs": [
    {
     "data": {
      "application/vnd.jupyter.widget-view+json": {
       "model_id": "f66e39a4b0b84d7daeb95f3a8ce29644",
       "version_major": 2,
       "version_minor": 0
      },
      "text/plain": [
       "  0%|          | 0/500 [00:00<?, ?it/s]"
      ]
     },
     "metadata": {},
     "output_type": "display_data"
    },
    {
     "data": {
      "application/vnd.jupyter.widget-view+json": {
       "model_id": "85e579cfb311498b9f7f2a5846c2b425",
       "version_major": 2,
       "version_minor": 0
      },
      "text/plain": [
       "  0%|          | 0/500 [00:00<?, ?it/s]"
      ]
     },
     "metadata": {},
     "output_type": "display_data"
    },
    {
     "data": {
      "application/vnd.jupyter.widget-view+json": {
       "model_id": "d50721a0427a4ddaa060181ddc81f67d",
       "version_major": 2,
       "version_minor": 0
      },
      "text/plain": [
       "  0%|          | 0/500 [00:00<?, ?it/s]"
      ]
     },
     "metadata": {},
     "output_type": "display_data"
    },
    {
     "data": {
      "application/vnd.jupyter.widget-view+json": {
       "model_id": "84fd1ea1de9d4fb98d4e0adea23d1bce",
       "version_major": 2,
       "version_minor": 0
      },
      "text/plain": [
       "  0%|          | 0/500 [00:00<?, ?it/s]"
      ]
     },
     "metadata": {},
     "output_type": "display_data"
    },
    {
     "data": {
      "application/vnd.jupyter.widget-view+json": {
       "model_id": "cbc438b4f19848eabaee15b5466c4028",
       "version_major": 2,
       "version_minor": 0
      },
      "text/plain": [
       "  0%|          | 0/500 [00:00<?, ?it/s]"
      ]
     },
     "metadata": {},
     "output_type": "display_data"
    },
    {
     "data": {
      "application/vnd.jupyter.widget-view+json": {
       "model_id": "950e2df0f30d468e967047b232760d46",
       "version_major": 2,
       "version_minor": 0
      },
      "text/plain": [
       "  0%|          | 0/500 [00:00<?, ?it/s]"
      ]
     },
     "metadata": {},
     "output_type": "display_data"
    },
    {
     "data": {
      "application/vnd.jupyter.widget-view+json": {
       "model_id": "a9f73b8775644bc78393ddee1aac336b",
       "version_major": 2,
       "version_minor": 0
      },
      "text/plain": [
       "  0%|          | 0/500 [00:00<?, ?it/s]"
      ]
     },
     "metadata": {},
     "output_type": "display_data"
    },
    {
     "data": {
      "application/vnd.jupyter.widget-view+json": {
       "model_id": "04112339dcbd41f4bd4f0074e6aed7d2",
       "version_major": 2,
       "version_minor": 0
      },
      "text/plain": [
       "  0%|          | 0/500 [00:00<?, ?it/s]"
      ]
     },
     "metadata": {},
     "output_type": "display_data"
    },
    {
     "data": {
      "application/vnd.jupyter.widget-view+json": {
       "model_id": "6e83f35567714b13a336248098e7b1c5",
       "version_major": 2,
       "version_minor": 0
      },
      "text/plain": [
       "  0%|          | 0/500 [00:00<?, ?it/s]"
      ]
     },
     "metadata": {},
     "output_type": "display_data"
    },
    {
     "data": {
      "application/vnd.jupyter.widget-view+json": {
       "model_id": "c6d3bb2b831841f294c6e8d449dbdc4e",
       "version_major": 2,
       "version_minor": 0
      },
      "text/plain": [
       "  0%|          | 0/500 [00:00<?, ?it/s]"
      ]
     },
     "metadata": {},
     "output_type": "display_data"
    },
    {
     "data": {
      "application/vnd.jupyter.widget-view+json": {
       "model_id": "3f95bdd9f70f4b2eb791c2a0d09fc296",
       "version_major": 2,
       "version_minor": 0
      },
      "text/plain": [
       "  0%|          | 0/500 [00:00<?, ?it/s]"
      ]
     },
     "metadata": {},
     "output_type": "display_data"
    },
    {
     "data": {
      "application/vnd.jupyter.widget-view+json": {
       "model_id": "12771cbfbe3e4c41b579b881582af42a",
       "version_major": 2,
       "version_minor": 0
      },
      "text/plain": [
       "  0%|          | 0/500 [00:00<?, ?it/s]"
      ]
     },
     "metadata": {},
     "output_type": "display_data"
    },
    {
     "data": {
      "application/vnd.jupyter.widget-view+json": {
       "model_id": "b6200370772e419eb72b39203efbdd20",
       "version_major": 2,
       "version_minor": 0
      },
      "text/plain": [
       "  0%|          | 0/500 [00:00<?, ?it/s]"
      ]
     },
     "metadata": {},
     "output_type": "display_data"
    },
    {
     "data": {
      "application/vnd.jupyter.widget-view+json": {
       "model_id": "8ae2ef41198142219aea03989d97924b",
       "version_major": 2,
       "version_minor": 0
      },
      "text/plain": [
       "  0%|          | 0/500 [00:00<?, ?it/s]"
      ]
     },
     "metadata": {},
     "output_type": "display_data"
    },
    {
     "data": {
      "application/vnd.jupyter.widget-view+json": {
       "model_id": "7df80e2d5cfe4566b8690b926a91eaf5",
       "version_major": 2,
       "version_minor": 0
      },
      "text/plain": [
       "  0%|          | 0/500 [00:00<?, ?it/s]"
      ]
     },
     "metadata": {},
     "output_type": "display_data"
    },
    {
     "data": {
      "application/vnd.jupyter.widget-view+json": {
       "model_id": "3502989aa5da463d9f9809757bfa1abd",
       "version_major": 2,
       "version_minor": 0
      },
      "text/plain": [
       "  0%|          | 0/500 [00:00<?, ?it/s]"
      ]
     },
     "metadata": {},
     "output_type": "display_data"
    },
    {
     "data": {
      "application/vnd.jupyter.widget-view+json": {
       "model_id": "4247ce54e29841169e61c4de99cf8303",
       "version_major": 2,
       "version_minor": 0
      },
      "text/plain": [
       "  0%|          | 0/500 [00:00<?, ?it/s]"
      ]
     },
     "metadata": {},
     "output_type": "display_data"
    },
    {
     "data": {
      "application/vnd.jupyter.widget-view+json": {
       "model_id": "19cdb4ebfa11470f91b51638252688c2",
       "version_major": 2,
       "version_minor": 0
      },
      "text/plain": [
       "  0%|          | 0/500 [00:00<?, ?it/s]"
      ]
     },
     "metadata": {},
     "output_type": "display_data"
    },
    {
     "data": {
      "application/vnd.jupyter.widget-view+json": {
       "model_id": "4d9941d8f66f4cfabcf3744ea2cc4ea2",
       "version_major": 2,
       "version_minor": 0
      },
      "text/plain": [
       "  0%|          | 0/500 [00:00<?, ?it/s]"
      ]
     },
     "metadata": {},
     "output_type": "display_data"
    },
    {
     "data": {
      "application/vnd.jupyter.widget-view+json": {
       "model_id": "97819f989b02471babca56710c6d6fee",
       "version_major": 2,
       "version_minor": 0
      },
      "text/plain": [
       "  0%|          | 0/500 [00:00<?, ?it/s]"
      ]
     },
     "metadata": {},
     "output_type": "display_data"
    },
    {
     "data": {
      "application/vnd.jupyter.widget-view+json": {
       "model_id": "599655d7870d4b10bce18e0f080dda16",
       "version_major": 2,
       "version_minor": 0
      },
      "text/plain": [
       "  0%|          | 0/500 [00:00<?, ?it/s]"
      ]
     },
     "metadata": {},
     "output_type": "display_data"
    },
    {
     "data": {
      "application/vnd.jupyter.widget-view+json": {
       "model_id": "8e886876b92c476f8e6d31ca672fa673",
       "version_major": 2,
       "version_minor": 0
      },
      "text/plain": [
       "  0%|          | 0/500 [00:00<?, ?it/s]"
      ]
     },
     "metadata": {},
     "output_type": "display_data"
    },
    {
     "data": {
      "application/vnd.jupyter.widget-view+json": {
       "model_id": "0ae6eccdd6dc404bb78f62b3c2c67695",
       "version_major": 2,
       "version_minor": 0
      },
      "text/plain": [
       "  0%|          | 0/500 [00:00<?, ?it/s]"
      ]
     },
     "metadata": {},
     "output_type": "display_data"
    },
    {
     "data": {
      "application/vnd.jupyter.widget-view+json": {
       "model_id": "bcbe67c1356f4d11bd9768e813d05830",
       "version_major": 2,
       "version_minor": 0
      },
      "text/plain": [
       "  0%|          | 0/500 [00:00<?, ?it/s]"
      ]
     },
     "metadata": {},
     "output_type": "display_data"
    },
    {
     "data": {
      "application/vnd.jupyter.widget-view+json": {
       "model_id": "0695a2f30534481f8b33de932ebdd379",
       "version_major": 2,
       "version_minor": 0
      },
      "text/plain": [
       "  0%|          | 0/500 [00:00<?, ?it/s]"
      ]
     },
     "metadata": {},
     "output_type": "display_data"
    },
    {
     "data": {
      "application/vnd.jupyter.widget-view+json": {
       "model_id": "c245c15199a4426a9c78dd8b5fe9fe5a",
       "version_major": 2,
       "version_minor": 0
      },
      "text/plain": [
       "  0%|          | 0/500 [00:00<?, ?it/s]"
      ]
     },
     "metadata": {},
     "output_type": "display_data"
    },
    {
     "data": {
      "application/vnd.jupyter.widget-view+json": {
       "model_id": "2bfe336ed0af4a3fa80fd65642b182f3",
       "version_major": 2,
       "version_minor": 0
      },
      "text/plain": [
       "  0%|          | 0/500 [00:00<?, ?it/s]"
      ]
     },
     "metadata": {},
     "output_type": "display_data"
    },
    {
     "data": {
      "application/vnd.jupyter.widget-view+json": {
       "model_id": "c75a7bea25be422197d1e7bca3d23aa0",
       "version_major": 2,
       "version_minor": 0
      },
      "text/plain": [
       "  0%|          | 0/500 [00:00<?, ?it/s]"
      ]
     },
     "metadata": {},
     "output_type": "display_data"
    },
    {
     "data": {
      "application/vnd.jupyter.widget-view+json": {
       "model_id": "1a4f07078564444796f221f3de1665da",
       "version_major": 2,
       "version_minor": 0
      },
      "text/plain": [
       "  0%|          | 0/500 [00:00<?, ?it/s]"
      ]
     },
     "metadata": {},
     "output_type": "display_data"
    },
    {
     "data": {
      "application/vnd.jupyter.widget-view+json": {
       "model_id": "b3ec956cc0b34651bde5eeec8b387177",
       "version_major": 2,
       "version_minor": 0
      },
      "text/plain": [
       "  0%|          | 0/500 [00:00<?, ?it/s]"
      ]
     },
     "metadata": {},
     "output_type": "display_data"
    },
    {
     "data": {
      "application/vnd.jupyter.widget-view+json": {
       "model_id": "b5998176ecdd45cbae284efee8d25bcd",
       "version_major": 2,
       "version_minor": 0
      },
      "text/plain": [
       "  0%|          | 0/500 [00:00<?, ?it/s]"
      ]
     },
     "metadata": {},
     "output_type": "display_data"
    },
    {
     "data": {
      "application/vnd.jupyter.widget-view+json": {
       "model_id": "2a5eacf3774d432286d217cd61a0ec83",
       "version_major": 2,
       "version_minor": 0
      },
      "text/plain": [
       "  0%|          | 0/500 [00:00<?, ?it/s]"
      ]
     },
     "metadata": {},
     "output_type": "display_data"
    },
    {
     "name": "stdout",
     "output_type": "stream",
     "text": [
      "0\t\t0.5420\t\t0.4167\t\t0.0220\t\t0.0418\n",
      "1\t\t0.5720\t\t0.6444\t\t0.1278\t\t0.2132\n",
      "2\t\t0.5580\t\t0.5484\t\t0.1498\t\t0.2353\n",
      "3\t\t0.6100\t\t0.5988\t\t0.4273\t\t0.4987\n",
      "4\t\t0.6620\t\t0.6706\t\t0.5022\t\t0.5743\n",
      "5\t\t0.7100\t\t0.7412\t\t0.5551\t\t0.6348\n",
      "6\t\t0.7180\t\t0.7905\t\t0.5154\t\t0.6240\n",
      "7\t\t0.6300\t\t0.7386\t\t0.2863\t\t0.4127\n"
     ]
    }
   ],
   "source": [
    "toprints = []\n",
    "for i in range(8):\n",
    "    x_train_real = x_train*2**(-i)\n",
    "    x_test_real = x_test*2**(-i)\n",
    "\n",
    "    qc = QCalculator(zz_feature_map(feature_dimension=8, reps=4))\n",
    "    qc.calculate_kernel(x_train_real)\n",
    "    qc.svm(1, y_train)\n",
    "    predictions = qc.predict(x_test_real, y_test)\n",
    "\n",
    "    met_ac = metrics.accuracy_score(y_true=y_test, y_pred=predictions)\n",
    "    met_pr = metrics.precision_score(y_true=y_test, y_pred=predictions)\n",
    "    met_rec = metrics.recall_score(y_true=y_test, y_pred=predictions)\n",
    "    met_f1 = metrics.f1_score(y_true=y_test, y_pred=predictions)\n",
    "    toprints += [f\"{i}\\t\\t{met_ac:.4f}\\t\\t{met_pr:.4f}\\t\\t{met_rec:.4f}\\t\\t{met_f1:.4f}\"]\n",
    "\n",
    "for x in toprints:\n",
    "    print(x)"
   ]
  },
  {
   "cell_type": "markdown",
   "id": "c351d70f",
   "metadata": {},
   "source": [
    "svm-zzfm-rep1\n",
    "0\t\t0.5680\t\t0.5797\t\t0.1762\t\t0.2703\n",
    "1\t\t0.6300\t\t0.6641\t\t0.3744\t\t0.4789\n",
    "2\t\t0.6160\t\t0.6174\t\t0.4053\t\t0.4894\n",
    "3\t\t0.6460\t\t0.6562\t\t0.4626\t\t0.5426\n",
    "4\t\t0.6980\t\t0.7375\t\t0.5198\t\t0.6098\n",
    "5\t\t0.7260\t\t0.8261\t\t0.5022\t\t0.6247\n",
    "6\t\t0.6280\t\t0.8868\t\t0.2070\t\t0.3357\n",
    "7\t\t0.5520\t\t0.8000\t\t0.0176\t\t0.0345\n",
    "\n",
    "svm-zzfm-rep2\n",
    "0\t\t0.5640\t\t0.6667\t\t0.0793\t\t0.1417\n",
    "1\t\t0.5940\t\t0.6500\t\t0.2291\t\t0.3388\n",
    "2\t\t0.6180\t\t0.6304\t\t0.3833\t\t0.4767\n",
    "3\t\t0.6280\t\t0.6273\t\t0.4449\t\t0.5206\n",
    "4\t\t0.6820\t\t0.7125\t\t0.5022\t\t0.5891\n",
    "5\t\t0.7060\t\t0.7500\t\t0.5286\t\t0.6202\n",
    "6\t\t0.6540\t\t0.7368\t\t0.3700\t\t0.4927\n",
    "7\t\t0.6080\t\t0.6598\t\t0.2819\t\t0.3951\n",
    "\n",
    "svm-zzfm-rep4\n",
    "0\t\t0.5420\t\t0.4167\t\t0.0220\t\t0.0418\n",
    "1\t\t0.5720\t\t0.6444\t\t0.1278\t\t0.2132\n",
    "2\t\t0.5580\t\t0.5484\t\t0.1498\t\t0.2353\n",
    "3\t\t0.6100\t\t0.5988\t\t0.4273\t\t0.4987\n",
    "4\t\t0.6620\t\t0.6706\t\t0.5022\t\t0.5743\n",
    "5\t\t0.7100\t\t0.7412\t\t0.5551\t\t0.6348\n",
    "6\t\t0.7180\t\t0.7905\t\t0.5154\t\t0.6240\n",
    "7\t\t0.6300\t\t0.7386\t\t0.2863\t\t0.4127"
   ]
  },
  {
   "cell_type": "code",
   "execution_count": 8,
   "id": "95c0cb9f",
   "metadata": {},
   "outputs": [
    {
     "data": {
      "application/vnd.jupyter.widget-view+json": {
       "model_id": "6c029156fcc249a88090af84b4ae5d91",
       "version_major": 2,
       "version_minor": 0
      },
      "text/plain": [
       "  0%|          | 0/500 [00:00<?, ?it/s]"
      ]
     },
     "metadata": {},
     "output_type": "display_data"
    },
    {
     "data": {
      "application/vnd.jupyter.widget-view+json": {
       "model_id": "80e27724b9f347b5b0601254ff6f1a0c",
       "version_major": 2,
       "version_minor": 0
      },
      "text/plain": [
       "  0%|          | 0/500 [00:00<?, ?it/s]"
      ]
     },
     "metadata": {},
     "output_type": "display_data"
    },
    {
     "data": {
      "application/vnd.jupyter.widget-view+json": {
       "model_id": "ccfa1baf4d17439ea1af1acee59d748e",
       "version_major": 2,
       "version_minor": 0
      },
      "text/plain": [
       "  0%|          | 0/500 [00:00<?, ?it/s]"
      ]
     },
     "metadata": {},
     "output_type": "display_data"
    },
    {
     "data": {
      "application/vnd.jupyter.widget-view+json": {
       "model_id": "543c25dc29524a0cb7ee3ee06e673178",
       "version_major": 2,
       "version_minor": 0
      },
      "text/plain": [
       "  0%|          | 0/500 [00:00<?, ?it/s]"
      ]
     },
     "metadata": {},
     "output_type": "display_data"
    },
    {
     "data": {
      "application/vnd.jupyter.widget-view+json": {
       "model_id": "c0237811ab7542b7ad4635c90a2464a8",
       "version_major": 2,
       "version_minor": 0
      },
      "text/plain": [
       "  0%|          | 0/500 [00:00<?, ?it/s]"
      ]
     },
     "metadata": {},
     "output_type": "display_data"
    },
    {
     "data": {
      "application/vnd.jupyter.widget-view+json": {
       "model_id": "0c7480807a364a68b664733c0633bf8f",
       "version_major": 2,
       "version_minor": 0
      },
      "text/plain": [
       "  0%|          | 0/500 [00:00<?, ?it/s]"
      ]
     },
     "metadata": {},
     "output_type": "display_data"
    },
    {
     "data": {
      "application/vnd.jupyter.widget-view+json": {
       "model_id": "4edffb39f59f40afa0f21755809d4c22",
       "version_major": 2,
       "version_minor": 0
      },
      "text/plain": [
       "  0%|          | 0/500 [00:00<?, ?it/s]"
      ]
     },
     "metadata": {},
     "output_type": "display_data"
    },
    {
     "ename": "KeyboardInterrupt",
     "evalue": "",
     "output_type": "error",
     "traceback": [
      "\u001b[0;31m---------------------------------------------------------------------------\u001b[0m",
      "\u001b[0;31mKeyboardInterrupt\u001b[0m                         Traceback (most recent call last)",
      "Cell \u001b[0;32mIn[8], line 9\u001b[0m\n\u001b[1;32m      7\u001b[0m qc\u001b[38;5;241m.\u001b[39mcalculate_kernel(x_train_real)\n\u001b[1;32m      8\u001b[0m qc\u001b[38;5;241m.\u001b[39msvm(\u001b[38;5;241m1\u001b[39m, y_train)\n\u001b[0;32m----> 9\u001b[0m predictions \u001b[38;5;241m=\u001b[39m \u001b[43mqc\u001b[49m\u001b[38;5;241;43m.\u001b[39;49m\u001b[43mpredict\u001b[49m\u001b[43m(\u001b[49m\u001b[43mx_test_real\u001b[49m\u001b[43m,\u001b[49m\u001b[43m \u001b[49m\u001b[43my_test\u001b[49m\u001b[43m)\u001b[49m\n\u001b[1;32m     11\u001b[0m met_ac \u001b[38;5;241m=\u001b[39m metrics\u001b[38;5;241m.\u001b[39maccuracy_score(y_true\u001b[38;5;241m=\u001b[39my_test, y_pred\u001b[38;5;241m=\u001b[39mpredictions)\n\u001b[1;32m     12\u001b[0m met_pr \u001b[38;5;241m=\u001b[39m metrics\u001b[38;5;241m.\u001b[39mprecision_score(y_true\u001b[38;5;241m=\u001b[39my_test, y_pred\u001b[38;5;241m=\u001b[39mpredictions)\n",
      "Cell \u001b[0;32mIn[6], line 44\u001b[0m, in \u001b[0;36mQCalculator.predict\u001b[0;34m(self, x_test, y_test)\u001b[0m\n\u001b[1;32m     43\u001b[0m \u001b[38;5;28;01mdef\u001b[39;00m\u001b[38;5;250m \u001b[39m\u001b[38;5;21mpredict\u001b[39m(\u001b[38;5;28mself\u001b[39m, x_test, y_test):\n\u001b[0;32m---> 44\u001b[0m     x_test_matrix \u001b[38;5;241m=\u001b[39m \u001b[38;5;28;43mself\u001b[39;49m\u001b[38;5;241;43m.\u001b[39;49m\u001b[43mquantum_kernel\u001b[49m\u001b[43m(\u001b[49m\u001b[43mx_test\u001b[49m\u001b[43m,\u001b[49m\u001b[43m \u001b[49m\u001b[38;5;28;43mself\u001b[39;49m\u001b[38;5;241;43m.\u001b[39;49m\u001b[43mx_train\u001b[49m\u001b[43m)\u001b[49m\n\u001b[1;32m     45\u001b[0m     \u001b[38;5;28mself\u001b[39m\u001b[38;5;241m.\u001b[39mpredictions \u001b[38;5;241m=\u001b[39m \u001b[38;5;28mself\u001b[39m\u001b[38;5;241m.\u001b[39msvm_linear\u001b[38;5;241m.\u001b[39mpredict(x_test_matrix)\n\u001b[1;32m     46\u001b[0m     \u001b[38;5;28;01mreturn\u001b[39;00m \u001b[38;5;28mself\u001b[39m\u001b[38;5;241m.\u001b[39mpredictions\n",
      "Cell \u001b[0;32mIn[6], line 30\u001b[0m, in \u001b[0;36mQCalculator.quantum_kernel\u001b[0;34m(self, A, B)\u001b[0m\n\u001b[1;32m     29\u001b[0m \u001b[38;5;28;01mdef\u001b[39;00m\u001b[38;5;250m \u001b[39m\u001b[38;5;21mquantum_kernel\u001b[39m(\u001b[38;5;28mself\u001b[39m, A, B):\n\u001b[0;32m---> 30\u001b[0m     PsiA \u001b[38;5;241m=\u001b[39m \u001b[38;5;28;43mself\u001b[39;49m\u001b[38;5;241;43m.\u001b[39;49m\u001b[43mresolve_psi\u001b[49m\u001b[43m(\u001b[49m\u001b[43mA\u001b[49m\u001b[43m)\u001b[49m\n\u001b[1;32m     31\u001b[0m     PsiB \u001b[38;5;241m=\u001b[39m \u001b[38;5;28mself\u001b[39m\u001b[38;5;241m.\u001b[39mresolve_psi(B)\n\u001b[1;32m     32\u001b[0m     G \u001b[38;5;241m=\u001b[39m PsiA\u001b[38;5;241m.\u001b[39mconj()\u001b[38;5;241m.\u001b[39mT \u001b[38;5;241m@\u001b[39m PsiB                          \u001b[38;5;66;03m# <ψ_i | φ_j>\u001b[39;00m\n",
      "Cell \u001b[0;32mIn[6], line 25\u001b[0m, in \u001b[0;36mQCalculator.resolve_psi\u001b[0;34m(self, mat)\u001b[0m\n\u001b[1;32m     23\u001b[0m     key \u001b[38;5;241m=\u001b[39m \u001b[38;5;28mtuple\u001b[39m(row)   \u001b[38;5;66;03m# or row.tobytes() if speed matters\u001b[39;00m\n\u001b[1;32m     24\u001b[0m     \u001b[38;5;28;01mif\u001b[39;00m key \u001b[38;5;129;01mnot\u001b[39;00m \u001b[38;5;129;01min\u001b[39;00m \u001b[38;5;28mself\u001b[39m\u001b[38;5;241m.\u001b[39mcalculated:\n\u001b[0;32m---> 25\u001b[0m         \u001b[38;5;28mself\u001b[39m\u001b[38;5;241m.\u001b[39mcalculated[key] \u001b[38;5;241m=\u001b[39m \u001b[38;5;28;43mself\u001b[39;49m\u001b[38;5;241;43m.\u001b[39;49m\u001b[43mpsi\u001b[49m\u001b[43m(\u001b[49m\u001b[43mrow\u001b[49m\u001b[43m)\u001b[49m\u001b[38;5;241m.\u001b[39mdata\n\u001b[1;32m     26\u001b[0m     out_cols\u001b[38;5;241m.\u001b[39mappend(\u001b[38;5;28mself\u001b[39m\u001b[38;5;241m.\u001b[39mcalculated[key])\n\u001b[1;32m     27\u001b[0m \u001b[38;5;28;01mreturn\u001b[39;00m np\u001b[38;5;241m.\u001b[39mcolumn_stack(out_cols)\n",
      "Cell \u001b[0;32mIn[6], line 17\u001b[0m, in \u001b[0;36mQCalculator.psi\u001b[0;34m(self, x)\u001b[0m\n\u001b[1;32m     14\u001b[0m \u001b[38;5;28;01mdef\u001b[39;00m\u001b[38;5;250m \u001b[39m\u001b[38;5;21mpsi\u001b[39m(\u001b[38;5;28mself\u001b[39m, x):\n\u001b[1;32m     15\u001b[0m     \u001b[38;5;66;03m# x is a 1D array-like of length d\u001b[39;00m\n\u001b[1;32m     16\u001b[0m     qc \u001b[38;5;241m=\u001b[39m \u001b[38;5;28mself\u001b[39m\u001b[38;5;241m.\u001b[39mfm\u001b[38;5;241m.\u001b[39massign_parameters(x)                \u001b[38;5;66;03m# <-- use this\u001b[39;00m\n\u001b[0;32m---> 17\u001b[0m     \u001b[38;5;28;01mreturn\u001b[39;00m \u001b[43mStatevector\u001b[49m\u001b[38;5;241;43m.\u001b[39;49m\u001b[43mfrom_instruction\u001b[49m\u001b[43m(\u001b[49m\u001b[43mqc\u001b[49m\u001b[43m)\u001b[49m\n",
      "File \u001b[0;32m~/repo/final-thesis/venv/lib/python3.10/site-packages/qiskit/quantum_info/states/statevector.py:780\u001b[0m, in \u001b[0;36mStatevector.from_instruction\u001b[0;34m(cls, instruction)\u001b[0m\n\u001b[1;32m    778\u001b[0m init[\u001b[38;5;241m0\u001b[39m] \u001b[38;5;241m=\u001b[39m \u001b[38;5;241m1.0\u001b[39m\n\u001b[1;32m    779\u001b[0m vec \u001b[38;5;241m=\u001b[39m Statevector(init, dims\u001b[38;5;241m=\u001b[39minstruction\u001b[38;5;241m.\u001b[39mnum_qubits \u001b[38;5;241m*\u001b[39m (\u001b[38;5;241m2\u001b[39m,))\n\u001b[0;32m--> 780\u001b[0m \u001b[38;5;28;01mreturn\u001b[39;00m \u001b[43mStatevector\u001b[49m\u001b[38;5;241;43m.\u001b[39;49m\u001b[43m_evolve_instruction\u001b[49m\u001b[43m(\u001b[49m\u001b[43mvec\u001b[49m\u001b[43m,\u001b[49m\u001b[43m \u001b[49m\u001b[43minstruction\u001b[49m\u001b[43m)\u001b[49m\n",
      "File \u001b[0;32m~/repo/final-thesis/venv/lib/python3.10/site-packages/qiskit/quantum_info/states/statevector.py:967\u001b[0m, in \u001b[0;36mStatevector._evolve_instruction\u001b[0;34m(statevec, obj, qargs)\u001b[0m\n\u001b[1;32m    965\u001b[0m qubits \u001b[38;5;241m=\u001b[39m {qubit: i \u001b[38;5;28;01mfor\u001b[39;00m i, qubit \u001b[38;5;129;01min\u001b[39;00m \u001b[38;5;28menumerate\u001b[39m(obj\u001b[38;5;241m.\u001b[39mdefinition\u001b[38;5;241m.\u001b[39mqubits)}\n\u001b[1;32m    966\u001b[0m \u001b[38;5;28;01mfor\u001b[39;00m instruction \u001b[38;5;129;01min\u001b[39;00m obj\u001b[38;5;241m.\u001b[39mdefinition:\n\u001b[0;32m--> 967\u001b[0m     \u001b[38;5;28;01mif\u001b[39;00m instruction\u001b[38;5;241m.\u001b[39mclbits:\n\u001b[1;32m    968\u001b[0m         \u001b[38;5;28;01mraise\u001b[39;00m QiskitError(\n\u001b[1;32m    969\u001b[0m             \u001b[38;5;124mf\u001b[39m\u001b[38;5;124m\"\u001b[39m\u001b[38;5;124mCannot apply instruction with classical bits: \u001b[39m\u001b[38;5;132;01m{\u001b[39;00minstruction\u001b[38;5;241m.\u001b[39moperation\u001b[38;5;241m.\u001b[39mname\u001b[38;5;132;01m}\u001b[39;00m\u001b[38;5;124m\"\u001b[39m\n\u001b[1;32m    970\u001b[0m         )\n\u001b[1;32m    971\u001b[0m     \u001b[38;5;66;03m# Get the integer position of the flat register\u001b[39;00m\n",
      "\u001b[0;31mKeyboardInterrupt\u001b[0m: "
     ]
    }
   ],
   "source": [
    "toprints = []\n",
    "for i in range(8):\n",
    "    x_train_real = x_train*2**(-i)\n",
    "    x_test_real = x_test*2**(-i)\n",
    "\n",
    "    qc = QCalculator(pauli_feature_map(feature_dimension=8, reps=4, paulis=['X','Y','Z']))\n",
    "    qc.calculate_kernel(x_train_real)\n",
    "    qc.svm(1, y_train)\n",
    "    predictions = qc.predict(x_test_real, y_test)\n",
    "\n",
    "    met_ac = metrics.accuracy_score(y_true=y_test, y_pred=predictions)\n",
    "    met_pr = metrics.precision_score(y_true=y_test, y_pred=predictions)\n",
    "    met_rec = metrics.recall_score(y_true=y_test, y_pred=predictions)\n",
    "    met_f1 = metrics.f1_score(y_true=y_test, y_pred=predictions)\n",
    "    toprints += [f\"{i}\\t\\t{met_ac:.4f}\\t\\t{met_pr:.4f}\\t\\t{met_rec:.4f}\\t\\t{met_f1:.4f}\"]\n",
    "\n",
    "for x in toprints:\n",
    "    print(x)"
   ]
  },
  {
   "cell_type": "markdown",
   "id": "6d0dbe92",
   "metadata": {},
   "source": [
    "pauli-1\n",
    "0\t\t0.5680\t\t0.5797\t\t0.1762\t\t0.2703\n",
    "1\t\t0.6300\t\t0.6641\t\t0.3744\t\t0.4789\n",
    "2\t\t0.6160\t\t0.6174\t\t0.4053\t\t0.4894\n",
    "3\t\t0.6460\t\t0.6562\t\t0.4626\t\t0.5426\n",
    "4\t\t0.6980\t\t0.7375\t\t0.5198\t\t0.6098\n",
    "5\t\t0.7260\t\t0.8261\t\t0.5022\t\t0.6247\n",
    "6\t\t0.6280\t\t0.8868\t\t0.2070\t\t0.3357\n",
    "7\t\t0.5520\t\t0.8000\t\t0.0176\t\t0.0345\n",
    "\n",
    "pauli-2\n",
    "0\t\t0.5640\t\t0.6667\t\t0.0793\t\t0.1417\n",
    "1\t\t0.5940\t\t0.6500\t\t0.2291\t\t0.3388\n",
    "2\t\t0.6180\t\t0.6304\t\t0.3833\t\t0.4767\n",
    "3\t\t0.6280\t\t0.6273\t\t0.4449\t\t0.5206\n",
    "4\t\t0.6820\t\t0.7125\t\t0.5022\t\t0.5891\n",
    "5\t\t0.7060\t\t0.7500\t\t0.5286\t\t0.6202\n",
    "6\t\t0.6540\t\t0.7368\t\t0.3700\t\t0.4927\n",
    "7\t\t0.6080\t\t0.6598\t\t0.2819\t\t0.3951\n",
    "\n",
    "pauli-4\n",
    "0\t\t0.5420\t\t0.4167\t\t0.0220\t\t0.0418\n",
    "1\t\t0.5720\t\t0.6444\t\t0.1278\t\t0.2132\n",
    "2\t\t0.5580\t\t0.5484\t\t0.1498\t\t0.2353\n",
    "3\t\t0.6100\t\t0.5988\t\t0.4273\t\t0.4987\n",
    "4\t\t0.6620\t\t0.6706\t\t0.5022\t\t0.5743\n",
    "5\t\t0.7100\t\t0.7412\t\t0.5551\t\t0.6348\n",
    "6\t\t0.7180\t\t0.7905\t\t0.5154\t\t0.6240\n",
    "7\t\t0.6300\t\t0.7386\t\t0.2863\t\t0.4127"
   ]
  }
 ],
 "metadata": {
  "kernelspec": {
   "display_name": "venv",
   "language": "python",
   "name": "python3"
  },
  "language_info": {
   "codemirror_mode": {
    "name": "ipython",
    "version": 3
   },
   "file_extension": ".py",
   "mimetype": "text/x-python",
   "name": "python",
   "nbconvert_exporter": "python",
   "pygments_lexer": "ipython3",
   "version": "3.10.12"
  }
 },
 "nbformat": 4,
 "nbformat_minor": 5
}
